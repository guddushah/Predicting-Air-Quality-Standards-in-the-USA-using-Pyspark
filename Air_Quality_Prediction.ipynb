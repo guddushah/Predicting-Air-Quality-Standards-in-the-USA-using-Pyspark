{
  "cells": [
    {
      "cell_type": "markdown",
      "metadata": {
        "id": "view-in-github",
        "colab_type": "text"
      },
      "source": [
        "<a href=\"https://colab.research.google.com/github/guddushah/Predicting-Air-Quality-Standards-in-the-USA-using-Pyspark/blob/main/Air_Quality_Prediction.ipynb\" target=\"_parent\"><img src=\"https://colab.research.google.com/assets/colab-badge.svg\" alt=\"Open In Colab\"/></a>"
      ]
    },
    {
      "cell_type": "code",
      "execution_count": null,
      "id": "8ccb106c",
      "metadata": {
        "id": "8ccb106c",
        "outputId": "a1c3f459-2813-45d2-e49e-d168245d806f"
      },
      "outputs": [
        {
          "name": "stdout",
          "output_type": "stream",
          "text": [
            "+-----+\n",
            "|hello|\n",
            "+-----+\n",
            "|world|\n",
            "+-----+\n",
            "\n"
          ]
        }
      ],
      "source": [
        "#Creating SparkSession\n",
        "import findspark\n",
        "findspark.init()\n",
        "\n",
        "import pyspark # only run after findspark.init()\n",
        "from pyspark.sql import SparkSession\n",
        "\n",
        "spark = SparkSession.builder.master(\"local[*]\").getOrCreate()\n",
        "\n",
        "df = spark.sql('''select 'world' as hello ''')\n",
        "df.show()"
      ]
    },
    {
      "cell_type": "code",
      "execution_count": null,
      "id": "e60721d3",
      "metadata": {
        "id": "e60721d3",
        "outputId": "6764d0ef-5949-4d7d-cb8f-a67d8c5d2dc0"
      },
      "outputs": [
        {
          "data": {
            "text/html": [
              "\n",
              "            <div>\n",
              "                <p><b>SparkSession - in-memory</b></p>\n",
              "                \n",
              "        <div>\n",
              "            <p><b>SparkContext</b></p>\n",
              "\n",
              "            <p><a href=\"http://gudduSHAH.Home:4040\">Spark UI</a></p>\n",
              "\n",
              "            <dl>\n",
              "              <dt>Version</dt>\n",
              "                <dd><code>v3.3.0</code></dd>\n",
              "              <dt>Master</dt>\n",
              "                <dd><code>local[*]</code></dd>\n",
              "              <dt>AppName</dt>\n",
              "                <dd><code>pyspark-shell</code></dd>\n",
              "            </dl>\n",
              "        </div>\n",
              "        \n",
              "            </div>\n",
              "        "
            ],
            "text/plain": [
              "<pyspark.sql.session.SparkSession at 0x1966100e4c0>"
            ]
          },
          "execution_count": 2,
          "metadata": {},
          "output_type": "execute_result"
        }
      ],
      "source": [
        "spark"
      ]
    },
    {
      "cell_type": "code",
      "execution_count": null,
      "id": "03e11c3d",
      "metadata": {
        "id": "03e11c3d"
      },
      "outputs": [],
      "source": [
        "#Loading the dataset\n",
        "df_pyspark = spark.read.csv(\"F:\\BigData_Assignment\\AirQualityDataset.csv\",header = True, inferSchema = True)"
      ]
    },
    {
      "cell_type": "code",
      "execution_count": null,
      "id": "31dd7e8a",
      "metadata": {
        "id": "31dd7e8a",
        "outputId": "8bb7028f-f0bd-4945-d1f0-dc489009b1a4"
      },
      "outputs": [
        {
          "data": {
            "text/html": [
              "<style>pre { white-space: pre !important; }</style>"
            ],
            "text/plain": [
              "<IPython.core.display.HTML object>"
            ]
          },
          "metadata": {},
          "output_type": "display_data"
        }
      ],
      "source": [
        "#Removing messiness of dataframe\n",
        "from IPython.core.display import HTML\n",
        "display(HTML(\"<style>pre { white-space: pre !important; }</style>\"))"
      ]
    },
    {
      "cell_type": "code",
      "execution_count": null,
      "id": "ebd9c517",
      "metadata": {
        "id": "ebd9c517",
        "outputId": "6e39fa89-05dc-44cb-de2a-d1b7b65de0ab"
      },
      "outputs": [
        {
          "name": "stdout",
          "output_type": "stream",
          "text": [
            "+---+---------+--------+---+--------+------------------+-------------------------+----------+--------+----------+-------+---------+----------+-------+-------------------+\n",
            "|_c0|CBSA Code|    Date|AQI|Category|Defining Parameter|Number of Sites Reporting|city_ascii|state_id|state_name|    lat|      lng|population|density|           timezone|\n",
            "+---+---------+--------+---+--------+------------------+-------------------------+----------+--------+----------+-------+---------+----------+-------+-------------------+\n",
            "|  0|    10140|1/1/2022| 21|    Good|             PM2.5|                        2|  Aberdeen|      WA|Washington|46.9757|-123.8094|     16571|    588|America/Los_Angeles|\n",
            "|  1|    10140|1/2/2022| 12|    Good|             PM2.5|                        2|  Aberdeen|      WA|Washington|46.9757|-123.8094|     16571|    588|America/Los_Angeles|\n",
            "|  2|    10140|1/3/2022| 18|    Good|             PM2.5|                        2|  Aberdeen|      WA|Washington|46.9757|-123.8094|     16571|    588|America/Los_Angeles|\n",
            "|  3|    10140|1/4/2022| 19|    Good|             PM2.5|                        2|  Aberdeen|      WA|Washington|46.9757|-123.8094|     16571|    588|America/Los_Angeles|\n",
            "|  4|    10140|1/5/2022| 17|    Good|             PM2.5|                        2|  Aberdeen|      WA|Washington|46.9757|-123.8094|     16571|    588|America/Los_Angeles|\n",
            "+---+---------+--------+---+--------+------------------+-------------------------+----------+--------+----------+-------+---------+----------+-------+-------------------+\n",
            "only showing top 5 rows\n",
            "\n"
          ]
        }
      ],
      "source": [
        "#Displaying dataset\n",
        "df_pyspark.show(5)"
      ]
    },
    {
      "cell_type": "code",
      "execution_count": null,
      "id": "ba81ff7b",
      "metadata": {
        "id": "ba81ff7b",
        "outputId": "c88e9fef-3ced-4b70-9834-ac70c6a927dd"
      },
      "outputs": [
        {
          "data": {
            "text/plain": [
              "pyspark.sql.dataframe.DataFrame"
            ]
          },
          "execution_count": 6,
          "metadata": {},
          "output_type": "execute_result"
        }
      ],
      "source": [
        "#checking dataframe type\n",
        "type(df_pyspark)"
      ]
    },
    {
      "cell_type": "markdown",
      "id": "04554f36",
      "metadata": {
        "id": "04554f36"
      },
      "source": [
        "# Data Pre-Processing"
      ]
    },
    {
      "cell_type": "code",
      "execution_count": null,
      "id": "44167a4a",
      "metadata": {
        "id": "44167a4a",
        "outputId": "32c4d551-a778-4e93-9e77-86419ebc376c"
      },
      "outputs": [
        {
          "name": "stdout",
          "output_type": "stream",
          "text": [
            "['_c0', 'CBSA Code', 'Date', 'AQI', 'Category', 'Defining Parameter', 'Number of Sites Reporting', 'city_ascii', 'state_id', 'state_name', 'lat', 'lng', 'population', 'density', 'timezone']\n"
          ]
        }
      ],
      "source": [
        "print(df_pyspark.columns)"
      ]
    },
    {
      "cell_type": "code",
      "execution_count": null,
      "id": "70bcbc31",
      "metadata": {
        "id": "70bcbc31"
      },
      "outputs": [],
      "source": [
        "#Renaming the columns name\n",
        "df_pyspark = df_pyspark.withColumnRenamed(\"_c0\", \"Index\")\\\n",
        "             .withColumnRenamed(\"CBSA Code\", \"CBSA_Code\")\\\n",
        "             .withColumnRenamed(\"Defining Parameter\", \"Defining_Parameter\")\\\n",
        "             .withColumnRenamed(\"Number of Sites Reporting\", \"Number_of_Sites\")\\\n",
        "             .withColumnRenamed(\"city_ascii\", \"city_name\")"
      ]
    },
    {
      "cell_type": "code",
      "execution_count": null,
      "id": "c5408905",
      "metadata": {
        "id": "c5408905",
        "outputId": "712e68f6-df07-4788-87c0-2c1a9b0bd378"
      },
      "outputs": [
        {
          "data": {
            "text/plain": [
              "['Index',\n",
              " 'CBSA_Code',\n",
              " 'Date',\n",
              " 'AQI',\n",
              " 'Category',\n",
              " 'Defining_Parameter',\n",
              " 'Number_of_Sites',\n",
              " 'city_name',\n",
              " 'state_id',\n",
              " 'state_name',\n",
              " 'lat',\n",
              " 'lng',\n",
              " 'population',\n",
              " 'density',\n",
              " 'timezone']"
            ]
          },
          "execution_count": 9,
          "metadata": {},
          "output_type": "execute_result"
        }
      ],
      "source": [
        "df_pyspark.columns"
      ]
    },
    {
      "cell_type": "code",
      "execution_count": null,
      "id": "7c6cba79",
      "metadata": {
        "id": "7c6cba79",
        "outputId": "7db0844f-5b54-4c55-de1e-aef3adc9369c"
      },
      "outputs": [
        {
          "data": {
            "text/plain": [
              "1048575"
            ]
          },
          "execution_count": 10,
          "metadata": {},
          "output_type": "execute_result"
        }
      ],
      "source": [
        "#Number of records\n",
        "df_pyspark.count()"
      ]
    },
    {
      "cell_type": "code",
      "execution_count": null,
      "id": "79037038",
      "metadata": {
        "id": "79037038",
        "outputId": "cf4c2081-0d68-4eee-c9f7-114c22859ff4"
      },
      "outputs": [
        {
          "data": {
            "text/plain": [
              "(1048575, 15)"
            ]
          },
          "execution_count": 11,
          "metadata": {},
          "output_type": "execute_result"
        }
      ],
      "source": [
        "#Size of data\n",
        "(df_pyspark.count(), len(df_pyspark.columns))"
      ]
    },
    {
      "cell_type": "code",
      "execution_count": null,
      "id": "30a08707",
      "metadata": {
        "scrolled": true,
        "id": "30a08707",
        "outputId": "c05f66bd-c3c1-4808-efbe-b7836ed7d855"
      },
      "outputs": [
        {
          "name": "stdout",
          "output_type": "stream",
          "text": [
            "root\n",
            " |-- Index: integer (nullable = true)\n",
            " |-- CBSA_Code: integer (nullable = true)\n",
            " |-- Date: string (nullable = true)\n",
            " |-- AQI: integer (nullable = true)\n",
            " |-- Category: string (nullable = true)\n",
            " |-- Defining_Parameter: string (nullable = true)\n",
            " |-- Number_of_Sites: integer (nullable = true)\n",
            " |-- city_name: string (nullable = true)\n",
            " |-- state_id: string (nullable = true)\n",
            " |-- state_name: string (nullable = true)\n",
            " |-- lat: double (nullable = true)\n",
            " |-- lng: double (nullable = true)\n",
            " |-- population: integer (nullable = true)\n",
            " |-- density: integer (nullable = true)\n",
            " |-- timezone: string (nullable = true)\n",
            "\n"
          ]
        }
      ],
      "source": [
        "#Checking the datatypes of columns/features\n",
        "df_pyspark.printSchema()"
      ]
    },
    {
      "cell_type": "code",
      "execution_count": null,
      "id": "1d18600e",
      "metadata": {
        "id": "1d18600e",
        "outputId": "a4ac07f7-3760-4de3-8c6c-635c8559a6d7"
      },
      "outputs": [
        {
          "data": {
            "text/plain": [
              "[('Index', 'int'),\n",
              " ('CBSA_Code', 'int'),\n",
              " ('Date', 'string'),\n",
              " ('AQI', 'int'),\n",
              " ('Category', 'string'),\n",
              " ('Defining_Parameter', 'string'),\n",
              " ('Number_of_Sites', 'int'),\n",
              " ('city_name', 'string'),\n",
              " ('state_id', 'string'),\n",
              " ('state_name', 'string'),\n",
              " ('lat', 'double'),\n",
              " ('lng', 'double'),\n",
              " ('population', 'int'),\n",
              " ('density', 'int'),\n",
              " ('timezone', 'string')]"
            ]
          },
          "execution_count": 13,
          "metadata": {},
          "output_type": "execute_result"
        }
      ],
      "source": [
        "#check datatypes\n",
        "df_pyspark.dtypes"
      ]
    },
    {
      "cell_type": "code",
      "execution_count": null,
      "id": "f8460c57",
      "metadata": {
        "id": "f8460c57",
        "outputId": "fe04abae-4df8-4118-dc0f-eef3df7ccefe"
      },
      "outputs": [
        {
          "name": "stdout",
          "output_type": "stream",
          "text": [
            "+-------+-----------------+------------------+--------+------------------+--------------+------------------+------------------+---------+--------+----------+-----------------+------------------+------------------+------------------+-----------------+\n",
            "|summary|            Index|         CBSA_Code|    Date|               AQI|      Category|Defining_Parameter|   Number_of_Sites|city_name|state_id|state_name|              lat|               lng|        population|           density|         timezone|\n",
            "+-------+-----------------+------------------+--------+------------------+--------------+------------------+------------------+---------+--------+----------+-----------------+------------------+------------------+------------------+-----------------+\n",
            "|  count|          1048575|           1048575| 1048575|           1048575|       1048575|           1048575|           1048575|  1048575| 1048575|   1048575|          1048575|           1048575|           1048575|           1048575|          1048575|\n",
            "|   mean|533666.5591827004|29905.546947047183|    null| 41.17570416994492|          null|              null|3.4027761485826002|     null|    null|      null|38.57077525632408|-95.04545845827947| 466671.3994583125|1007.9103440383377|             null|\n",
            "| stddev|308120.2881722786|11497.231095475054|    null|21.978022207338984|          null|              null|  4.94791011063358|     null|    null|      null|5.814327536378705|16.951233270735464|1383937.4893701638| 934.4878271561034|             null|\n",
            "|    min|                0|             10100|1/1/2015|                 0|          Good|                CO|                 1| Aberdeen|      AK|   Alabama|          17.9743|         -159.3521|              1903|                 4|America/Anchorage|\n",
            "|    max|          1067901|             49740|9/9/2021|              2060|Very Unhealthy|             PM2.5|                47|     Yuma|      WY|   Wyoming|          64.8353|           -66.061|          18680025|             10768| Pacific/Honolulu|\n",
            "+-------+-----------------+------------------+--------+------------------+--------------+------------------+------------------+---------+--------+----------+-----------------+------------------+------------------+------------------+-----------------+\n",
            "\n"
          ]
        }
      ],
      "source": [
        "df_pyspark.describe().show()"
      ]
    },
    {
      "cell_type": "code",
      "execution_count": null,
      "id": "0ff01858",
      "metadata": {
        "id": "0ff01858",
        "outputId": "b77e32ec-8a0a-4e3c-d1c6-506e1d1972a3"
      },
      "outputs": [
        {
          "name": "stdout",
          "output_type": "stream",
          "text": [
            "+-----+---------+----+---+--------+------------------+---------------+---------+--------+----------+---+---+----------+-------+--------+\n",
            "|Index|CBSA_Code|Date|AQI|Category|Defining_Parameter|Number_of_Sites|city_name|state_id|state_name|lat|lng|population|density|timezone|\n",
            "+-----+---------+----+---+--------+------------------+---------------+---------+--------+----------+---+---+----------+-------+--------+\n",
            "|    0|        0|   0|  0|       0|                 0|              0|        0|       0|         0|  0|  0|         0|      0|       0|\n",
            "+-----+---------+----+---+--------+------------------+---------------+---------+--------+----------+---+---+----------+-------+--------+\n",
            "\n"
          ]
        }
      ],
      "source": [
        "#check for missing data\n",
        "from pyspark.sql.functions import isnan, when, count, col\n",
        "df = df_pyspark.select([count(when(isnan(c), c)).alias(c) for c in df_pyspark.columns])\n",
        "df.show()"
      ]
    },
    {
      "cell_type": "code",
      "execution_count": null,
      "id": "63114e54",
      "metadata": {
        "id": "63114e54",
        "outputId": "238f972a-9e21-4027-ee39-c7511b9e892b"
      },
      "outputs": [
        {
          "name": "stdout",
          "output_type": "stream",
          "text": [
            "+--------------------+------+\n",
            "|            Category| count|\n",
            "+--------------------+------+\n",
            "|           Hazardous|   252|\n",
            "|      Very Unhealthy|   628|\n",
            "|           Unhealthy|  3631|\n",
            "|Unhealthy for Sen...| 13952|\n",
            "|            Moderate|210660|\n",
            "|                Good|819452|\n",
            "+--------------------+------+\n",
            "\n"
          ]
        }
      ],
      "source": [
        "#Grouping by class\n",
        "df_pyspark.groupby('Category').count().sort('count', ascending = True).show()"
      ]
    },
    {
      "cell_type": "code",
      "execution_count": null,
      "id": "68228a6b",
      "metadata": {
        "id": "68228a6b",
        "outputId": "abf8d0c4-e428-498a-e86a-605689a9887c"
      },
      "outputs": [
        {
          "name": "stdout",
          "output_type": "stream",
          "text": [
            "+------------------+------+\n",
            "|Defining_Parameter| count|\n",
            "+------------------+------+\n",
            "|                CO|   630|\n",
            "|               NO2| 10291|\n",
            "|              PM10| 44808|\n",
            "|             PM2.5|437601|\n",
            "|             Ozone|555245|\n",
            "+------------------+------+\n",
            "\n"
          ]
        }
      ],
      "source": [
        "#pollutants concenteration\n",
        "df_pyspark.groupby('Defining_Parameter').count().sort('count', ascending = True).show()"
      ]
    },
    {
      "cell_type": "code",
      "execution_count": null,
      "id": "0e0ef666",
      "metadata": {
        "id": "0e0ef666",
        "outputId": "f68ec743-cb12-4b0e-e53e-b173cfc019f0"
      },
      "outputs": [
        {
          "data": {
            "text/plain": [
              "14"
            ]
          },
          "execution_count": 18,
          "metadata": {},
          "output_type": "execute_result"
        }
      ],
      "source": [
        "#total number of timezone\n",
        "df_pyspark.select('timezone').distinct().count()"
      ]
    },
    {
      "cell_type": "code",
      "execution_count": null,
      "id": "ba27d6ad",
      "metadata": {
        "id": "ba27d6ad",
        "outputId": "599d0203-60f7-4ae8-9109-4e7fb88340a7"
      },
      "outputs": [
        {
          "name": "stdout",
          "output_type": "stream",
          "text": [
            "+--------------------+------+\n",
            "|            timezone| count|\n",
            "+--------------------+------+\n",
            "|      America/Juneau|  2093|\n",
            "|America/Indiana/V...|  2962|\n",
            "|   America/Matamoros|  4365|\n",
            "|   America/Anchorage|  4749|\n",
            "| America/Puerto_Rico|  5780|\n",
            "|    Pacific/Honolulu|  6604|\n",
            "|       America/Boise|  8411|\n",
            "|     America/Phoenix| 20428|\n",
            "|America/Indiana/I...| 26876|\n",
            "|     America/Detroit| 30342|\n",
            "|      America/Denver|105141|\n",
            "| America/Los_Angeles|178542|\n",
            "|     America/Chicago|299330|\n",
            "|    America/New_York|352952|\n",
            "+--------------------+------+\n",
            "\n"
          ]
        }
      ],
      "source": [
        "#timezone with number of times where measurement was taken\n",
        "df_pyspark.groupby('timezone').count().sort('count', ascending = True).show()"
      ]
    },
    {
      "cell_type": "code",
      "execution_count": null,
      "id": "fabb2843",
      "metadata": {
        "id": "fabb2843",
        "outputId": "eaf89e7b-2999-4ec0-9402-61d9a8631f10"
      },
      "outputs": [
        {
          "name": "stdout",
          "output_type": "stream",
          "text": [
            "+-----+---------+--------+---+--------+------------------+---------------+---------+--------+----------+-------+---------+----------+-------+-------------------+\n",
            "|Index|CBSA_Code|    Date|AQI|Category|Defining_Parameter|Number_of_Sites|city_name|state_id|state_name|    lat|      lng|population|density|           timezone|\n",
            "+-----+---------+--------+---+--------+------------------+---------------+---------+--------+----------+-------+---------+----------+-------+-------------------+\n",
            "|    0|    10140|1/1/2022| 21|    Good|             PM2.5|              2| Aberdeen|      WA|Washington|46.9757|-123.8094|     16571|    588|America/Los_Angeles|\n",
            "|    1|    10140|1/2/2022| 12|    Good|             PM2.5|              2| Aberdeen|      WA|Washington|46.9757|-123.8094|     16571|    588|America/Los_Angeles|\n",
            "|    2|    10140|1/3/2022| 18|    Good|             PM2.5|              2| Aberdeen|      WA|Washington|46.9757|-123.8094|     16571|    588|America/Los_Angeles|\n",
            "|    3|    10140|1/4/2022| 19|    Good|             PM2.5|              2| Aberdeen|      WA|Washington|46.9757|-123.8094|     16571|    588|America/Los_Angeles|\n",
            "|    4|    10140|1/5/2022| 17|    Good|             PM2.5|              2| Aberdeen|      WA|Washington|46.9757|-123.8094|     16571|    588|America/Los_Angeles|\n",
            "+-----+---------+--------+---+--------+------------------+---------------+---------+--------+----------+-------+---------+----------+-------+-------------------+\n",
            "only showing top 5 rows\n",
            "\n"
          ]
        }
      ],
      "source": [
        "df_pyspark.show(5)"
      ]
    },
    {
      "cell_type": "code",
      "execution_count": null,
      "id": "f1142560",
      "metadata": {
        "id": "f1142560",
        "outputId": "4932d3bd-49ae-4efd-d162-b6e2728e616b"
      },
      "outputs": [
        {
          "data": {
            "text/plain": [
              "482"
            ]
          },
          "execution_count": 21,
          "metadata": {},
          "output_type": "execute_result"
        }
      ],
      "source": [
        "#total number of cities\n",
        "df_pyspark.select('city_name').distinct().count()"
      ]
    },
    {
      "cell_type": "code",
      "execution_count": null,
      "id": "b93829e5",
      "metadata": {
        "id": "b93829e5",
        "outputId": "f24f9968-ca13-4a99-a99e-39961ed5d562"
      },
      "outputs": [
        {
          "name": "stdout",
          "output_type": "stream",
          "text": [
            "+----------+-----+\n",
            "| city_name|count|\n",
            "+----------+-----+\n",
            "|   Beckley|   25|\n",
            "|  Coos Bay|  107|\n",
            "| Jonesboro|  139|\n",
            "|   Gaffney|  172|\n",
            "| Talladega|  233|\n",
            "|   Guayama|  249|\n",
            "|  Beatrice|  303|\n",
            "|   Grenada|  317|\n",
            "| Greenwood|  320|\n",
            "|  Danville|  425|\n",
            "|      Ames|  425|\n",
            "|  Adjuntas|  443|\n",
            "| Tahlequah|  549|\n",
            "|  Fairmont|  590|\n",
            "|    Durant|  595|\n",
            "|   Ruidoso|  611|\n",
            "|    Winona|  634|\n",
            "|Los Alamos|  638|\n",
            "|   Emporia|  640|\n",
            "|  Houghton|  640|\n",
            "+----------+-----+\n",
            "only showing top 20 rows\n",
            "\n"
          ]
        }
      ],
      "source": [
        "#city name with number of times where measurement was taken\n",
        "df_pyspark.groupby('city_name').count().sort('count', ascending = True).show()"
      ]
    },
    {
      "cell_type": "code",
      "execution_count": null,
      "id": "3deb2fb4",
      "metadata": {
        "id": "3deb2fb4",
        "outputId": "05c0e419-c10f-4fe5-9922-1b4ef0f50117"
      },
      "outputs": [
        {
          "data": {
            "text/plain": [
              "52"
            ]
          },
          "execution_count": 23,
          "metadata": {},
          "output_type": "execute_result"
        }
      ],
      "source": [
        "#total number of states\n",
        "df_pyspark.select('state_name').distinct().count()"
      ]
    },
    {
      "cell_type": "code",
      "execution_count": null,
      "id": "5f4221e7",
      "metadata": {
        "id": "5f4221e7",
        "outputId": "383999bb-7103-4b35-9f5c-a7fa95c1b2c0"
      },
      "outputs": [
        {
          "name": "stdout",
          "output_type": "stream",
          "text": [
            "+--------------------+-----+\n",
            "|          state_name|count|\n",
            "+--------------------+-----+\n",
            "|            Delaware| 2085|\n",
            "|        Rhode Island| 2282|\n",
            "|District of Columbia| 2289|\n",
            "|             Vermont| 4384|\n",
            "|         Puerto Rico| 5780|\n",
            "|              Hawaii| 6604|\n",
            "|            Nebraska| 6796|\n",
            "|              Alaska| 6842|\n",
            "|          New Jersey| 6975|\n",
            "|              Kansas| 7068|\n",
            "|            Maryland| 9303|\n",
            "|               Maine|10702|\n",
            "|         Connecticut|10871|\n",
            "|        North Dakota|11057|\n",
            "|       Massachusetts|11163|\n",
            "|         Mississippi|11976|\n",
            "|        South Dakota|12193|\n",
            "|       New Hampshire|12486|\n",
            "|            Arkansas|13782|\n",
            "|       West Virginia|13805|\n",
            "+--------------------+-----+\n",
            "only showing top 20 rows\n",
            "\n"
          ]
        }
      ],
      "source": [
        "#state name with number of times where measurement was taken\n",
        "df_pyspark.groupby('state_name').count().sort('count', ascending = True).show()"
      ]
    },
    {
      "cell_type": "code",
      "execution_count": null,
      "id": "a5143d7c",
      "metadata": {
        "id": "a5143d7c",
        "outputId": "1135e184-dd1f-4383-c326-dbcb4c3b2821"
      },
      "outputs": [
        {
          "name": "stdout",
          "output_type": "stream",
          "text": [
            "+---------+-----+\n",
            "|     Date|count|\n",
            "+---------+-----+\n",
            "|3/20/2017|  509|\n",
            "|5/19/2017|  507|\n",
            "|3/26/2017|  507|\n",
            "|7/30/2017|  507|\n",
            "| 3/5/2017|  506|\n",
            "|4/25/2017|  506|\n",
            "|8/28/2016|  506|\n",
            "|9/27/2016|  506|\n",
            "|3/11/2017|  506|\n",
            "|4/13/2017|  506|\n",
            "|6/30/2017|  506|\n",
            "| 3/8/2017|  506|\n",
            "| 8/5/2017|  505|\n",
            "| 7/7/2018|  505|\n",
            "| 5/7/2017|  505|\n",
            "|3/17/2017|  505|\n",
            "|6/24/2017|  505|\n",
            "|5/13/2017|  505|\n",
            "|5/16/2017|  505|\n",
            "|5/22/2017|  505|\n",
            "+---------+-----+\n",
            "only showing top 20 rows\n",
            "\n"
          ]
        }
      ],
      "source": [
        "df_pyspark.groupby('Date').count().sort('count', ascending = False).show()"
      ]
    },
    {
      "cell_type": "code",
      "execution_count": null,
      "id": "0358a328",
      "metadata": {
        "id": "0358a328",
        "outputId": "a546f5bc-4263-4c75-b3ff-fde6ceeb293f"
      },
      "outputs": [
        {
          "name": "stdout",
          "output_type": "stream",
          "text": [
            "root\n",
            " |-- Index: integer (nullable = true)\n",
            " |-- CBSA_Code: integer (nullable = true)\n",
            " |-- Date: string (nullable = true)\n",
            " |-- AQI: integer (nullable = true)\n",
            " |-- Category: string (nullable = true)\n",
            " |-- Defining_Parameter: string (nullable = true)\n",
            " |-- Number_of_Sites: integer (nullable = true)\n",
            " |-- city_name: string (nullable = true)\n",
            " |-- state_id: string (nullable = true)\n",
            " |-- state_name: string (nullable = true)\n",
            " |-- lat: double (nullable = true)\n",
            " |-- lng: double (nullable = true)\n",
            " |-- population: integer (nullable = true)\n",
            " |-- density: integer (nullable = true)\n",
            " |-- timezone: string (nullable = true)\n",
            "\n"
          ]
        }
      ],
      "source": [
        "df_pyspark.printSchema()"
      ]
    },
    {
      "cell_type": "markdown",
      "id": "f4cef8dd",
      "metadata": {
        "id": "f4cef8dd"
      },
      "source": [
        "# Feature Engineering"
      ]
    },
    {
      "cell_type": "code",
      "execution_count": null,
      "id": "0c71e8b6",
      "metadata": {
        "id": "0c71e8b6"
      },
      "outputs": [],
      "source": [
        "#Cast Date from string to date\n",
        "import pyspark.sql.functions as F\n",
        "df_pyspark = df_pyspark.withColumn(\n",
        "     \"Date\",\n",
        "      F.when(\n",
        "          F.to_date(F.col(\"Date\"), \"MM/dd/yyyy\").isNotNull(),\n",
        "          F.to_date(F.col(\"Date\"), \"MM/dd/yyyy\"),\n",
        "      )\n",
        ")"
      ]
    },
    {
      "cell_type": "code",
      "execution_count": null,
      "id": "20090eb8",
      "metadata": {
        "id": "20090eb8"
      },
      "outputs": [],
      "source": [
        "#Cast CBSA_Code from integer to string\n",
        "from pyspark.sql.types import StringType\n",
        "df_pyspark = df_pyspark.withColumn('Index', df_pyspark['Index'].cast(StringType()))\n",
        "df_pyspark = df_pyspark.withColumn('CBSA_Code', df_pyspark['CBSA_Code'].cast(StringType()))"
      ]
    },
    {
      "cell_type": "code",
      "execution_count": null,
      "id": "401db560",
      "metadata": {
        "id": "401db560",
        "outputId": "6f6cf188-e0f3-4dfc-c40c-b4be3cc726cf"
      },
      "outputs": [
        {
          "name": "stdout",
          "output_type": "stream",
          "text": [
            "root\n",
            " |-- Index: string (nullable = true)\n",
            " |-- CBSA_Code: string (nullable = true)\n",
            " |-- Date: date (nullable = true)\n",
            " |-- AQI: integer (nullable = true)\n",
            " |-- Category: string (nullable = true)\n",
            " |-- Defining_Parameter: string (nullable = true)\n",
            " |-- Number_of_Sites: integer (nullable = true)\n",
            " |-- city_name: string (nullable = true)\n",
            " |-- state_id: string (nullable = true)\n",
            " |-- state_name: string (nullable = true)\n",
            " |-- lat: double (nullable = true)\n",
            " |-- lng: double (nullable = true)\n",
            " |-- population: integer (nullable = true)\n",
            " |-- density: integer (nullable = true)\n",
            " |-- timezone: string (nullable = true)\n",
            "\n"
          ]
        }
      ],
      "source": [
        "df_pyspark.printSchema()"
      ]
    },
    {
      "cell_type": "code",
      "execution_count": null,
      "id": "b8efcff4",
      "metadata": {
        "id": "b8efcff4"
      },
      "outputs": [],
      "source": [
        "#Label Encoding\n",
        "#Encoding for Defining_Parameter\n",
        "from pyspark.ml import Pipeline\n",
        "from pyspark.ml.feature import StringIndexer\n",
        "\n",
        "\n",
        "parameterEncoder = StringIndexer(inputCol = 'Defining_Parameter', outputCol = 'Pollutant_Parameter').fit(df_pyspark)\n",
        "df_pyspark = parameterEncoder.transform(df_pyspark)"
      ]
    },
    {
      "cell_type": "code",
      "execution_count": null,
      "id": "b8c2a31d",
      "metadata": {
        "id": "b8c2a31d"
      },
      "outputs": [],
      "source": [
        "#Encoding for Category\n",
        "catEncoder = StringIndexer(inputCol = 'Category', outputCol = 'Target').fit(df_pyspark)\n",
        "df_pyspark = catEncoder.transform(df_pyspark)"
      ]
    },
    {
      "cell_type": "code",
      "execution_count": null,
      "id": "b4f2c39d",
      "metadata": {
        "id": "b4f2c39d",
        "outputId": "52f3b906-a705-4f60-8f6b-28f442cee413"
      },
      "outputs": [
        {
          "data": {
            "text/plain": [
              "['Ozone', 'PM2.5', 'PM10', 'NO2', 'CO']"
            ]
          },
          "execution_count": 33,
          "metadata": {},
          "output_type": "execute_result"
        }
      ],
      "source": [
        "#Get the labels\n",
        "parameterEncoder.labels"
      ]
    },
    {
      "cell_type": "code",
      "execution_count": null,
      "id": "857960e7",
      "metadata": {
        "id": "857960e7",
        "outputId": "cf8d1b8d-0462-4548-da18-818e63a7a6a4"
      },
      "outputs": [
        {
          "data": {
            "text/plain": [
              "['Good',\n",
              " 'Moderate',\n",
              " 'Unhealthy for Sensitive Groups',\n",
              " 'Unhealthy',\n",
              " 'Very Unhealthy',\n",
              " 'Hazardous']"
            ]
          },
          "execution_count": 34,
          "metadata": {},
          "output_type": "execute_result"
        }
      ],
      "source": [
        "catEncoder.labels"
      ]
    },
    {
      "cell_type": "code",
      "execution_count": null,
      "id": "eddfc6e7",
      "metadata": {
        "id": "eddfc6e7",
        "outputId": "9bcf82d7-90a0-4966-884a-453e099f2688"
      },
      "outputs": [
        {
          "data": {
            "text/plain": [
              "DataFrame[key: string, value: string]"
            ]
          },
          "execution_count": 35,
          "metadata": {},
          "output_type": "execute_result"
        }
      ],
      "source": [
        "import pyspark.sql.functions as f\n",
        "spark.sql(\"set spark.sql.legacy.timeParserPolicy=LEGACY\") # this bit\n",
        "#resolves the issues"
      ]
    },
    {
      "cell_type": "code",
      "execution_count": null,
      "id": "15050756",
      "metadata": {
        "id": "15050756",
        "outputId": "3f2cf4a6-81b7-4584-e0a3-81314cc4690d"
      },
      "outputs": [
        {
          "name": "stdout",
          "output_type": "stream",
          "text": [
            "+-----+---------+----------+---+--------+------------------+---------------+---------+--------+----------+-------+---------+----------+-------+-------------------+-------------------+------+\n",
            "|Index|CBSA_Code|      Date|AQI|Category|Defining_Parameter|Number_of_Sites|city_name|state_id|state_name|    lat|      lng|population|density|           timezone|Pollutant_Parameter|Target|\n",
            "+-----+---------+----------+---+--------+------------------+---------------+---------+--------+----------+-------+---------+----------+-------+-------------------+-------------------+------+\n",
            "|    0|    10140|2022-01-01| 21|    Good|             PM2.5|              2| Aberdeen|      WA|Washington|46.9757|-123.8094|     16571|    588|America/Los_Angeles|                1.0|   0.0|\n",
            "|    1|    10140|2022-01-02| 12|    Good|             PM2.5|              2| Aberdeen|      WA|Washington|46.9757|-123.8094|     16571|    588|America/Los_Angeles|                1.0|   0.0|\n",
            "|    2|    10140|2022-01-03| 18|    Good|             PM2.5|              2| Aberdeen|      WA|Washington|46.9757|-123.8094|     16571|    588|America/Los_Angeles|                1.0|   0.0|\n",
            "|    3|    10140|2022-01-04| 19|    Good|             PM2.5|              2| Aberdeen|      WA|Washington|46.9757|-123.8094|     16571|    588|America/Los_Angeles|                1.0|   0.0|\n",
            "|    4|    10140|2022-01-05| 17|    Good|             PM2.5|              2| Aberdeen|      WA|Washington|46.9757|-123.8094|     16571|    588|America/Los_Angeles|                1.0|   0.0|\n",
            "+-----+---------+----------+---+--------+------------------+---------------+---------+--------+----------+-------+---------+----------+-------+-------------------+-------------------+------+\n",
            "only showing top 5 rows\n",
            "\n"
          ]
        }
      ],
      "source": [
        "df_pyspark.show(5)"
      ]
    },
    {
      "cell_type": "code",
      "execution_count": null,
      "id": "67ad6739",
      "metadata": {
        "id": "67ad6739"
      },
      "outputs": [],
      "source": [
        "from pyspark.sql.functions import format_number, dayofmonth, dayofyear, month, year, weekofyear, date_format"
      ]
    },
    {
      "cell_type": "code",
      "execution_count": null,
      "id": "4cc738ea",
      "metadata": {
        "id": "4cc738ea",
        "outputId": "52374c88-caee-4dba-9896-6cca8e93122d"
      },
      "outputs": [
        {
          "name": "stdout",
          "output_type": "stream",
          "text": [
            "+----------+\n",
            "|year(Date)|\n",
            "+----------+\n",
            "|      2022|\n",
            "|      2022|\n",
            "|      2022|\n",
            "|      2022|\n",
            "|      2022|\n",
            "+----------+\n",
            "only showing top 5 rows\n",
            "\n"
          ]
        }
      ],
      "source": [
        "df_pyspark.select(year(df_pyspark['Date'])).show(5)"
      ]
    },
    {
      "cell_type": "code",
      "execution_count": null,
      "id": "1273c20c",
      "metadata": {
        "id": "1273c20c",
        "outputId": "c5168cab-22dd-4d60-8c1d-007cb26f53f3"
      },
      "outputs": [
        {
          "name": "stdout",
          "output_type": "stream",
          "text": [
            "+----------------+\n",
            "|dayofmonth(Date)|\n",
            "+----------------+\n",
            "|               1|\n",
            "|               2|\n",
            "|               3|\n",
            "|               4|\n",
            "|               5|\n",
            "+----------------+\n",
            "only showing top 5 rows\n",
            "\n"
          ]
        }
      ],
      "source": [
        "df_pyspark.select(dayofmonth(df_pyspark['Date'])).show(5)"
      ]
    },
    {
      "cell_type": "code",
      "execution_count": null,
      "id": "c7373d03",
      "metadata": {
        "id": "c7373d03",
        "outputId": "5551da3b-fbdd-4aed-f208-03365570561f"
      },
      "outputs": [
        {
          "name": "stdout",
          "output_type": "stream",
          "text": [
            "+-----------+\n",
            "|month(Date)|\n",
            "+-----------+\n",
            "|          1|\n",
            "|          1|\n",
            "|          1|\n",
            "|          1|\n",
            "|          1|\n",
            "+-----------+\n",
            "only showing top 5 rows\n",
            "\n"
          ]
        }
      ],
      "source": [
        "df_pyspark.select(month(df_pyspark['Date'])).show(5)"
      ]
    },
    {
      "cell_type": "code",
      "execution_count": null,
      "id": "8111b1d8",
      "metadata": {
        "id": "8111b1d8"
      },
      "outputs": [],
      "source": [
        "#from pyspark.sql.functions import *\n",
        "#from pyspark.sql.types import *\n",
        "\n",
        "# udf that recognise pattern and return list of year,month and day\n",
        "#def splitUDF(row):\n",
        " #   if \"/\" in row:\n",
        "  #      mm,dd,yyyy = row.split(\"/\")\n",
        "   # elif \"-\" in row:\n",
        "    #    yyyy,mm,dd = row.split(\"-\")\n",
        "\n",
        "    #return [yyyy,mm,dd]\n",
        "\n",
        "\n",
        "#dateSplitterUDF = udf(lambda row : splitUDF(row),ArrayType(StringType()))\n",
        "#df\\\n",
        "#.select(dateSplitterUDF(df.Date).alias(\"dt\"))\\\n",
        "#.withColumn('year',col('dt').getItem(0).cast('int'))\\\n",
        "#.withColumn('month',col('dt').getItem(1).cast('int'))\\\n",
        "#.withColumn('day',col('dt').getItem(2).cast('int'))\\\n",
        "#.show()\n"
      ]
    },
    {
      "cell_type": "code",
      "execution_count": null,
      "id": "d9408544",
      "metadata": {
        "id": "d9408544"
      },
      "outputs": [],
      "source": [
        "#return list of year,month and day\n",
        "from pyspark.sql.functions import *\n",
        "from pyspark.sql.functions import year, month, dayofweek, dayofmonth\n",
        "df_pyspark = df_pyspark.withColumn('year', year(col('Date')))\n",
        "df_pyspark = df_pyspark.withColumn('month', month(col('Date')))\n",
        "df_pyspark = df_pyspark.withColumn('dayofmonth', dayofmonth(col('Date')))"
      ]
    },
    {
      "cell_type": "code",
      "execution_count": null,
      "id": "e6c2b381",
      "metadata": {
        "id": "e6c2b381",
        "outputId": "82f02af5-1dc3-4ef0-80df-0d1d5641ceaf"
      },
      "outputs": [
        {
          "name": "stdout",
          "output_type": "stream",
          "text": [
            "+-----+---------+----------+---+--------+------------------+---------------+---------+--------+----------+-------+---------+----------+-------+-------------------+-------------------+------+----+-----+----------+\n",
            "|Index|CBSA_Code|      Date|AQI|Category|Defining_Parameter|Number_of_Sites|city_name|state_id|state_name|    lat|      lng|population|density|           timezone|Pollutant_Parameter|Target|year|month|dayofmonth|\n",
            "+-----+---------+----------+---+--------+------------------+---------------+---------+--------+----------+-------+---------+----------+-------+-------------------+-------------------+------+----+-----+----------+\n",
            "|    0|    10140|2022-01-01| 21|    Good|             PM2.5|              2| Aberdeen|      WA|Washington|46.9757|-123.8094|     16571|    588|America/Los_Angeles|                1.0|   0.0|2022|    1|         1|\n",
            "|    1|    10140|2022-01-02| 12|    Good|             PM2.5|              2| Aberdeen|      WA|Washington|46.9757|-123.8094|     16571|    588|America/Los_Angeles|                1.0|   0.0|2022|    1|         2|\n",
            "|    2|    10140|2022-01-03| 18|    Good|             PM2.5|              2| Aberdeen|      WA|Washington|46.9757|-123.8094|     16571|    588|America/Los_Angeles|                1.0|   0.0|2022|    1|         3|\n",
            "|    3|    10140|2022-01-04| 19|    Good|             PM2.5|              2| Aberdeen|      WA|Washington|46.9757|-123.8094|     16571|    588|America/Los_Angeles|                1.0|   0.0|2022|    1|         4|\n",
            "|    4|    10140|2022-01-05| 17|    Good|             PM2.5|              2| Aberdeen|      WA|Washington|46.9757|-123.8094|     16571|    588|America/Los_Angeles|                1.0|   0.0|2022|    1|         5|\n",
            "+-----+---------+----------+---+--------+------------------+---------------+---------+--------+----------+-------+---------+----------+-------+-------------------+-------------------+------+----+-----+----------+\n",
            "only showing top 5 rows\n",
            "\n"
          ]
        }
      ],
      "source": [
        "df_pyspark.show(5)"
      ]
    },
    {
      "cell_type": "code",
      "execution_count": null,
      "id": "778c27b2",
      "metadata": {
        "id": "778c27b2",
        "outputId": "d357830b-05da-413b-9a5e-09101a3db9ac"
      },
      "outputs": [
        {
          "name": "stdout",
          "output_type": "stream",
          "text": [
            "root\n",
            " |-- Index: string (nullable = true)\n",
            " |-- CBSA_Code: string (nullable = true)\n",
            " |-- Date: date (nullable = true)\n",
            " |-- AQI: integer (nullable = true)\n",
            " |-- Category: string (nullable = true)\n",
            " |-- Defining_Parameter: string (nullable = true)\n",
            " |-- Number_of_Sites: integer (nullable = true)\n",
            " |-- city_name: string (nullable = true)\n",
            " |-- state_id: string (nullable = true)\n",
            " |-- state_name: string (nullable = true)\n",
            " |-- lat: double (nullable = true)\n",
            " |-- lng: double (nullable = true)\n",
            " |-- population: integer (nullable = true)\n",
            " |-- density: integer (nullable = true)\n",
            " |-- timezone: string (nullable = true)\n",
            " |-- Pollutant_Parameter: double (nullable = false)\n",
            " |-- Target: double (nullable = false)\n",
            " |-- year: integer (nullable = true)\n",
            " |-- month: integer (nullable = true)\n",
            " |-- dayofmonth: integer (nullable = true)\n",
            "\n"
          ]
        }
      ],
      "source": [
        "df_pyspark.printSchema()"
      ]
    },
    {
      "cell_type": "code",
      "execution_count": null,
      "id": "bc99f995",
      "metadata": {
        "scrolled": true,
        "id": "bc99f995",
        "outputId": "4051ad40-383a-492b-ff2c-593340114017"
      },
      "outputs": [
        {
          "name": "stdout",
          "output_type": "stream",
          "text": [
            "['Index', 'CBSA_Code', 'Date', 'AQI', 'Category', 'Defining_Parameter', 'Number_of_Sites', 'city_name', 'state_id', 'state_name', 'lat', 'lng', 'population', 'density', 'timezone', 'Pollutant_Parameter', 'Target', 'year', 'month', 'dayofmonth']\n"
          ]
        }
      ],
      "source": [
        "print(df_pyspark.columns)"
      ]
    },
    {
      "cell_type": "markdown",
      "id": "851a5f9b",
      "metadata": {
        "id": "851a5f9b"
      },
      "source": [
        "# Feature Selection"
      ]
    },
    {
      "cell_type": "code",
      "execution_count": null,
      "id": "543b0d83",
      "metadata": {
        "id": "543b0d83"
      },
      "outputs": [],
      "source": [
        "selected_features = ['year', 'month', 'dayofmonth', 'AQI', 'Pollutant_Parameter','Number_of_Sites', 'lat','lng',\n",
        "                     'population','density']"
      ]
    },
    {
      "cell_type": "code",
      "execution_count": null,
      "id": "0adcfb9b",
      "metadata": {
        "id": "0adcfb9b"
      },
      "outputs": [],
      "source": [
        "#VectorAssembler\n",
        "from pyspark.ml.linalg import Vectors\n",
        "from pyspark.ml.feature import VectorAssembler\n",
        "vec_assembler = VectorAssembler(inputCols = selected_features, outputCol = \"features\")"
      ]
    },
    {
      "cell_type": "code",
      "execution_count": null,
      "id": "3e344bea",
      "metadata": {
        "id": "3e344bea",
        "outputId": "199784e4-c6b4-47c2-f366-2a496cdc7e47"
      },
      "outputs": [
        {
          "name": "stdout",
          "output_type": "stream",
          "text": [
            "+-----+---------+----------+---+--------+------------------+---------------+---------+--------+----------+-------+---------+----------+-------+-------------------+-------------------+------+----+-----+----------+--------------------+\n",
            "|Index|CBSA_Code|      Date|AQI|Category|Defining_Parameter|Number_of_Sites|city_name|state_id|state_name|    lat|      lng|population|density|           timezone|Pollutant_Parameter|Target|year|month|dayofmonth|            features|\n",
            "+-----+---------+----------+---+--------+------------------+---------------+---------+--------+----------+-------+---------+----------+-------+-------------------+-------------------+------+----+-----+----------+--------------------+\n",
            "|    0|    10140|2022-01-01| 21|    Good|             PM2.5|              2| Aberdeen|      WA|Washington|46.9757|-123.8094|     16571|    588|America/Los_Angeles|                1.0|   0.0|2022|    1|         1|[2022.0,1.0,1.0,2...|\n",
            "|    1|    10140|2022-01-02| 12|    Good|             PM2.5|              2| Aberdeen|      WA|Washington|46.9757|-123.8094|     16571|    588|America/Los_Angeles|                1.0|   0.0|2022|    1|         2|[2022.0,1.0,2.0,1...|\n",
            "|    2|    10140|2022-01-03| 18|    Good|             PM2.5|              2| Aberdeen|      WA|Washington|46.9757|-123.8094|     16571|    588|America/Los_Angeles|                1.0|   0.0|2022|    1|         3|[2022.0,1.0,3.0,1...|\n",
            "|    3|    10140|2022-01-04| 19|    Good|             PM2.5|              2| Aberdeen|      WA|Washington|46.9757|-123.8094|     16571|    588|America/Los_Angeles|                1.0|   0.0|2022|    1|         4|[2022.0,1.0,4.0,1...|\n",
            "|    4|    10140|2022-01-05| 17|    Good|             PM2.5|              2| Aberdeen|      WA|Washington|46.9757|-123.8094|     16571|    588|America/Los_Angeles|                1.0|   0.0|2022|    1|         5|[2022.0,1.0,5.0,1...|\n",
            "+-----+---------+----------+---+--------+------------------+---------------+---------+--------+----------+-------+---------+----------+-------+-------------------+-------------------+------+----+-----+----------+--------------------+\n",
            "only showing top 5 rows\n",
            "\n"
          ]
        }
      ],
      "source": [
        "vec_df = vec_assembler.transform(df_pyspark)\n",
        "vec_df.show(5)"
      ]
    },
    {
      "cell_type": "code",
      "execution_count": null,
      "id": "68978b78",
      "metadata": {
        "id": "68978b78",
        "outputId": "17d426f3-51d7-45cc-f756-8074da463647"
      },
      "outputs": [
        {
          "name": "stdout",
          "output_type": "stream",
          "text": [
            "+--------------------+\n",
            "|            features|\n",
            "+--------------------+\n",
            "|[2022.0,1.0,1.0,2...|\n",
            "|[2022.0,1.0,2.0,1...|\n",
            "|[2022.0,1.0,3.0,1...|\n",
            "|[2022.0,1.0,4.0,1...|\n",
            "|[2022.0,1.0,5.0,1...|\n",
            "|[2022.0,1.0,6.0,1...|\n",
            "|[2022.0,1.0,7.0,2...|\n",
            "|[2022.0,1.0,8.0,1...|\n",
            "|[2022.0,1.0,9.0,1...|\n",
            "|[2022.0,1.0,10.0,...|\n",
            "|[2022.0,1.0,11.0,...|\n",
            "|[2022.0,1.0,12.0,...|\n",
            "|[2022.0,1.0,13.0,...|\n",
            "|[2022.0,1.0,14.0,...|\n",
            "|[2022.0,1.0,15.0,...|\n",
            "|[2022.0,1.0,16.0,...|\n",
            "|[2022.0,1.0,17.0,...|\n",
            "|[2022.0,1.0,18.0,...|\n",
            "|[2022.0,1.0,19.0,...|\n",
            "|[2022.0,1.0,20.0,...|\n",
            "+--------------------+\n",
            "only showing top 20 rows\n",
            "\n"
          ]
        }
      ],
      "source": [
        "vec_df.select('features').show()"
      ]
    },
    {
      "cell_type": "code",
      "execution_count": null,
      "id": "d4497cd9",
      "metadata": {
        "id": "d4497cd9",
        "outputId": "d789d0fa-ab79-4017-86b5-2cdecdcabdb2"
      },
      "outputs": [
        {
          "data": {
            "text/plain": [
              "8"
            ]
          },
          "execution_count": 50,
          "metadata": {},
          "output_type": "execute_result"
        }
      ],
      "source": [
        "df_pyspark.select('year').distinct().count()"
      ]
    },
    {
      "cell_type": "code",
      "execution_count": null,
      "id": "5a961762",
      "metadata": {
        "id": "5a961762",
        "outputId": "ce862ed5-6e4f-46c7-ab71-1aeebedf959f"
      },
      "outputs": [
        {
          "name": "stdout",
          "output_type": "stream",
          "text": [
            "+----+------+\n",
            "|year| count|\n",
            "+----+------+\n",
            "|2015| 14456|\n",
            "|2016|167092|\n",
            "|2017|170310|\n",
            "|2018|169909|\n",
            "|2019|167492|\n",
            "|2020|166852|\n",
            "|2021|166633|\n",
            "|2022| 25831|\n",
            "+----+------+\n",
            "\n"
          ]
        }
      ],
      "source": [
        "df_pyspark.groupby('year').count().sort('year', ascending = True).show()"
      ]
    },
    {
      "cell_type": "code",
      "execution_count": null,
      "id": "e4f1515f",
      "metadata": {
        "id": "e4f1515f",
        "outputId": "1973d040-ba41-42df-db99-8d55aa0efb1a"
      },
      "outputs": [
        {
          "name": "stdout",
          "output_type": "stream",
          "text": [
            "+-----+-----+\n",
            "|month|count|\n",
            "+-----+-----+\n",
            "|    1|91115|\n",
            "|    2|81955|\n",
            "|    3|94969|\n",
            "|    4|88792|\n",
            "|    5|90199|\n",
            "|    6|86894|\n",
            "|    7|89705|\n",
            "|    8|89847|\n",
            "|    9|86438|\n",
            "|   10|88058|\n",
            "|   11|79065|\n",
            "|   12|81538|\n",
            "+-----+-----+\n",
            "\n"
          ]
        }
      ],
      "source": [
        "df_pyspark.groupby('month').count().sort('month', ascending = True).show()"
      ]
    },
    {
      "cell_type": "code",
      "execution_count": null,
      "id": "23bab487",
      "metadata": {
        "id": "23bab487",
        "outputId": "0f296e61-69e2-4d55-b004-a617b23eace5"
      },
      "outputs": [
        {
          "name": "stdout",
          "output_type": "stream",
          "text": [
            "+----------+-----+\n",
            "|dayofmonth|count|\n",
            "+----------+-----+\n",
            "|         1|34470|\n",
            "|         2|34421|\n",
            "|         3|34526|\n",
            "|         4|34424|\n",
            "|         5|34425|\n",
            "|         6|34526|\n",
            "|         7|34398|\n",
            "|         8|34407|\n",
            "|         9|34494|\n",
            "|        10|34356|\n",
            "|        11|34359|\n",
            "|        12|34468|\n",
            "|        13|34391|\n",
            "|        14|34399|\n",
            "|        15|34514|\n",
            "|        16|34378|\n",
            "|        17|34372|\n",
            "|        18|34514|\n",
            "|        19|34408|\n",
            "|        20|34427|\n",
            "+----------+-----+\n",
            "only showing top 20 rows\n",
            "\n"
          ]
        }
      ],
      "source": [
        "df_pyspark.groupby('dayofmonth').count().sort('dayofmonth', ascending = True).show()"
      ]
    },
    {
      "cell_type": "markdown",
      "id": "b3c2651b",
      "metadata": {
        "id": "b3c2651b"
      },
      "source": [
        "Train-Test split by date"
      ]
    },
    {
      "cell_type": "code",
      "execution_count": null,
      "id": "640383e0",
      "metadata": {
        "id": "640383e0"
      },
      "outputs": [],
      "source": [
        "train_df = vec_df.filter(F.col(\"Date\").between(\"2015-01-01\",\"2019-12-31\"))\n",
        "test_df = vec_df.filter(F.col(\"Date\") > \"2019-12-31\")"
      ]
    },
    {
      "cell_type": "code",
      "execution_count": null,
      "id": "7dd3e2e9",
      "metadata": {
        "id": "7dd3e2e9",
        "outputId": "9bb2d3af-df83-4329-9d90-725c5c0189aa"
      },
      "outputs": [
        {
          "data": {
            "text/plain": [
              "689259"
            ]
          },
          "execution_count": 55,
          "metadata": {},
          "output_type": "execute_result"
        }
      ],
      "source": [
        "train_df.count()"
      ]
    },
    {
      "cell_type": "code",
      "execution_count": null,
      "id": "1fca9f07",
      "metadata": {
        "scrolled": true,
        "id": "1fca9f07",
        "outputId": "6348a913-a7ae-4f1d-a702-7f1cfc524d72"
      },
      "outputs": [
        {
          "name": "stdout",
          "output_type": "stream",
          "text": [
            "+------+---------+----------+---+--------+------------------+---------------+---------+--------+------------+-------+--------+----------+-------+---------------+-------------------+------+----+-----+----------+--------------------+\n",
            "| Index|CBSA_Code|      Date|AQI|Category|Defining_Parameter|Number_of_Sites|city_name|state_id|  state_name|    lat|     lng|population|density|       timezone|Pollutant_Parameter|Target|year|month|dayofmonth|            features|\n",
            "+------+---------+----------+---+--------+------------------+---------------+---------+--------+------------+-------+--------+----------+-------+---------------+-------------------+------+----+-----+----------+--------------------+\n",
            "|365468|    10100|2019-01-03|  4|    Good|              PM10|              1| Aberdeen|      SD|South Dakota|45.4649|-98.4686|     28315|    661|America/Chicago|                2.0|   0.0|2019|    1|         3|[2019.0,1.0,3.0,4...|\n",
            "|365469|    10100|2019-01-06| 31|    Good|             PM2.5|              1| Aberdeen|      SD|South Dakota|45.4649|-98.4686|     28315|    661|America/Chicago|                1.0|   0.0|2019|    1|         6|[2019.0,1.0,6.0,3...|\n",
            "+------+---------+----------+---+--------+------------------+---------------+---------+--------+------------+-------+--------+----------+-------+---------------+-------------------+------+----+-----+----------+--------------------+\n",
            "only showing top 2 rows\n",
            "\n"
          ]
        }
      ],
      "source": [
        "train_df.show(2)"
      ]
    },
    {
      "cell_type": "code",
      "execution_count": null,
      "id": "e793e427",
      "metadata": {
        "id": "e793e427",
        "outputId": "fa0f9ed6-93ad-43ad-e7d9-6783c6e7acb5"
      },
      "outputs": [
        {
          "data": {
            "text/plain": [
              "359316"
            ]
          },
          "execution_count": 57,
          "metadata": {},
          "output_type": "execute_result"
        }
      ],
      "source": [
        "test_df.count()"
      ]
    },
    {
      "cell_type": "code",
      "execution_count": null,
      "id": "9430c77a",
      "metadata": {
        "id": "9430c77a",
        "outputId": "c1acc8bd-64ed-48c3-fa61-a2dffcea3690"
      },
      "outputs": [
        {
          "name": "stdout",
          "output_type": "stream",
          "text": [
            "+-----+---------+----------+---+--------+------------------+---------------+---------+--------+----------+-------+---------+----------+-------+-------------------+-------------------+------+----+-----+----------+--------------------+\n",
            "|Index|CBSA_Code|      Date|AQI|Category|Defining_Parameter|Number_of_Sites|city_name|state_id|state_name|    lat|      lng|population|density|           timezone|Pollutant_Parameter|Target|year|month|dayofmonth|            features|\n",
            "+-----+---------+----------+---+--------+------------------+---------------+---------+--------+----------+-------+---------+----------+-------+-------------------+-------------------+------+----+-----+----------+--------------------+\n",
            "|    0|    10140|2022-01-01| 21|    Good|             PM2.5|              2| Aberdeen|      WA|Washington|46.9757|-123.8094|     16571|    588|America/Los_Angeles|                1.0|   0.0|2022|    1|         1|[2022.0,1.0,1.0,2...|\n",
            "|    1|    10140|2022-01-02| 12|    Good|             PM2.5|              2| Aberdeen|      WA|Washington|46.9757|-123.8094|     16571|    588|America/Los_Angeles|                1.0|   0.0|2022|    1|         2|[2022.0,1.0,2.0,1...|\n",
            "+-----+---------+----------+---+--------+------------------+---------------+---------+--------+----------+-------+---------+----------+-------+-------------------+-------------------+------+----+-----+----------+--------------------+\n",
            "only showing top 2 rows\n",
            "\n"
          ]
        }
      ],
      "source": [
        "test_df.show(2)"
      ]
    },
    {
      "cell_type": "markdown",
      "id": "84d8dd7b",
      "metadata": {
        "id": "84d8dd7b"
      },
      "source": [
        "# Model Building"
      ]
    },
    {
      "cell_type": "code",
      "execution_count": null,
      "id": "27c52e10",
      "metadata": {
        "id": "27c52e10"
      },
      "outputs": [],
      "source": [
        "from pyspark.ml.classification import DecisionTreeClassifier\n",
        "from pyspark.ml.classification import RandomForestClassifier\n",
        "from pyspark.ml.classification import LogisticRegression\n",
        "from pyspark.ml.evaluation import MulticlassClassificationEvaluator\n",
        "from pyspark.mllib.evaluation import MulticlassMetrics\n",
        "import matplotlib.pyplot as plt\n",
        "import numpy as np\n",
        "import itertools\n",
        "from sklearn.metrics import confusion_matrix"
      ]
    },
    {
      "cell_type": "markdown",
      "id": "e0a1c43d",
      "metadata": {
        "id": "e0a1c43d"
      },
      "source": [
        "DecisionTree Classifier"
      ]
    },
    {
      "cell_type": "code",
      "execution_count": null,
      "id": "0621d277",
      "metadata": {
        "id": "0621d277"
      },
      "outputs": [],
      "source": [
        "dec_tree = DecisionTreeClassifier(featuresCol = 'features', labelCol = 'Target')"
      ]
    },
    {
      "cell_type": "code",
      "execution_count": null,
      "id": "6ebc7af1",
      "metadata": {
        "id": "6ebc7af1"
      },
      "outputs": [],
      "source": [
        "dec_tree_model = dec_tree.fit(train_df)"
      ]
    },
    {
      "cell_type": "code",
      "execution_count": null,
      "id": "4b9c2081",
      "metadata": {
        "id": "4b9c2081"
      },
      "outputs": [],
      "source": [
        "y_pred = dec_tree_model.transform(test_df)"
      ]
    },
    {
      "cell_type": "code",
      "execution_count": null,
      "id": "029f396c",
      "metadata": {
        "id": "029f396c",
        "outputId": "14c2f516-78f6-4492-afb5-12affd025ee1"
      },
      "outputs": [
        {
          "name": "stdout",
          "output_type": "stream",
          "text": [
            "+-----+---------+----------+---+--------+------------------+---------------+---------+--------+----------+-------+---------+----------+-------+-------------------+-------------------+------+----+-----+----------+--------------------+--------------------+--------------------+----------+\n",
            "|Index|CBSA_Code|      Date|AQI|Category|Defining_Parameter|Number_of_Sites|city_name|state_id|state_name|    lat|      lng|population|density|           timezone|Pollutant_Parameter|Target|year|month|dayofmonth|            features|       rawPrediction|         probability|prediction|\n",
            "+-----+---------+----------+---+--------+------------------+---------------+---------+--------+----------+-------+---------+----------+-------+-------------------+-------------------+------+----+-----+----------+--------------------+--------------------+--------------------+----------+\n",
            "|    0|    10140|2022-01-01| 21|    Good|             PM2.5|              2| Aberdeen|      WA|Washington|46.9757|-123.8094|     16571|    588|America/Los_Angeles|                1.0|   0.0|2022|    1|         1|[2022.0,1.0,1.0,2...|[523990.0,0.0,0.0...|[1.0,0.0,0.0,0.0,...|       0.0|\n",
            "|    1|    10140|2022-01-02| 12|    Good|             PM2.5|              2| Aberdeen|      WA|Washington|46.9757|-123.8094|     16571|    588|America/Los_Angeles|                1.0|   0.0|2022|    1|         2|[2022.0,1.0,2.0,1...|[523990.0,0.0,0.0...|[1.0,0.0,0.0,0.0,...|       0.0|\n",
            "|    2|    10140|2022-01-03| 18|    Good|             PM2.5|              2| Aberdeen|      WA|Washington|46.9757|-123.8094|     16571|    588|America/Los_Angeles|                1.0|   0.0|2022|    1|         3|[2022.0,1.0,3.0,1...|[523990.0,0.0,0.0...|[1.0,0.0,0.0,0.0,...|       0.0|\n",
            "|    3|    10140|2022-01-04| 19|    Good|             PM2.5|              2| Aberdeen|      WA|Washington|46.9757|-123.8094|     16571|    588|America/Los_Angeles|                1.0|   0.0|2022|    1|         4|[2022.0,1.0,4.0,1...|[523990.0,0.0,0.0...|[1.0,0.0,0.0,0.0,...|       0.0|\n",
            "|    4|    10140|2022-01-05| 17|    Good|             PM2.5|              2| Aberdeen|      WA|Washington|46.9757|-123.8094|     16571|    588|America/Los_Angeles|                1.0|   0.0|2022|    1|         5|[2022.0,1.0,5.0,1...|[523990.0,0.0,0.0...|[1.0,0.0,0.0,0.0,...|       0.0|\n",
            "+-----+---------+----------+---+--------+------------------+---------------+---------+--------+----------+-------+---------+----------+-------+-------------------+-------------------+------+----+-----+----------+--------------------+--------------------+--------------------+----------+\n",
            "only showing top 5 rows\n",
            "\n"
          ]
        }
      ],
      "source": [
        "y_pred.show(5)"
      ]
    },
    {
      "cell_type": "code",
      "execution_count": null,
      "id": "179c6027",
      "metadata": {
        "id": "179c6027",
        "outputId": "ea88b7a6-4c29-41cf-fd55-0d1fe93d6fd7"
      },
      "outputs": [
        {
          "name": "stdout",
          "output_type": "stream",
          "text": [
            "['Index', 'CBSA_Code', 'Date', 'AQI', 'Category', 'Defining_Parameter', 'Number_of_Sites', 'city_name', 'state_id', 'state_name', 'lat', 'lng', 'population', 'density', 'timezone', 'Pollutant_Parameter', 'Target', 'year', 'month', 'dayofmonth', 'features', 'rawPrediction', 'probability', 'prediction']\n"
          ]
        }
      ],
      "source": [
        "print(y_pred.columns)"
      ]
    },
    {
      "cell_type": "code",
      "execution_count": null,
      "id": "3c2eea2a",
      "metadata": {
        "id": "3c2eea2a",
        "outputId": "5898954e-ba93-47d1-cf80-55ee6bc42e1e"
      },
      "outputs": [
        {
          "name": "stdout",
          "output_type": "stream",
          "text": [
            "+------+--------------------+--------------------+----------+\n",
            "|Target|       rawPrediction|         probability|prediction|\n",
            "+------+--------------------+--------------------+----------+\n",
            "|   0.0|[523990.0,0.0,0.0...|[1.0,0.0,0.0,0.0,...|       0.0|\n",
            "|   0.0|[523990.0,0.0,0.0...|[1.0,0.0,0.0,0.0,...|       0.0|\n",
            "|   0.0|[523990.0,0.0,0.0...|[1.0,0.0,0.0,0.0,...|       0.0|\n",
            "|   0.0|[523990.0,0.0,0.0...|[1.0,0.0,0.0,0.0,...|       0.0|\n",
            "|   0.0|[523990.0,0.0,0.0...|[1.0,0.0,0.0,0.0,...|       0.0|\n",
            "|   0.0|[523990.0,0.0,0.0...|[1.0,0.0,0.0,0.0,...|       0.0|\n",
            "|   0.0|[523990.0,0.0,0.0...|[1.0,0.0,0.0,0.0,...|       0.0|\n",
            "|   0.0|[523990.0,0.0,0.0...|[1.0,0.0,0.0,0.0,...|       0.0|\n",
            "|   0.0|[523990.0,0.0,0.0...|[1.0,0.0,0.0,0.0,...|       0.0|\n",
            "|   0.0|[523990.0,0.0,0.0...|[1.0,0.0,0.0,0.0,...|       0.0|\n",
            "|   0.0|[523990.0,0.0,0.0...|[1.0,0.0,0.0,0.0,...|       0.0|\n",
            "|   0.0|[523990.0,0.0,0.0...|[1.0,0.0,0.0,0.0,...|       0.0|\n",
            "|   0.0|[523990.0,0.0,0.0...|[1.0,0.0,0.0,0.0,...|       0.0|\n",
            "|   0.0|[523990.0,0.0,0.0...|[1.0,0.0,0.0,0.0,...|       0.0|\n",
            "|   0.0|[523990.0,0.0,0.0...|[1.0,0.0,0.0,0.0,...|       0.0|\n",
            "|   0.0|[523990.0,0.0,0.0...|[1.0,0.0,0.0,0.0,...|       0.0|\n",
            "|   0.0|[523990.0,0.0,0.0...|[1.0,0.0,0.0,0.0,...|       0.0|\n",
            "|   0.0|[523990.0,0.0,0.0...|[1.0,0.0,0.0,0.0,...|       0.0|\n",
            "|   0.0|[523990.0,0.0,0.0...|[1.0,0.0,0.0,0.0,...|       0.0|\n",
            "|   0.0|[523990.0,0.0,0.0...|[1.0,0.0,0.0,0.0,...|       0.0|\n",
            "+------+--------------------+--------------------+----------+\n",
            "only showing top 20 rows\n",
            "\n"
          ]
        }
      ],
      "source": [
        "y_pred.select('Target','rawPrediction', 'probability', 'prediction').show()"
      ]
    },
    {
      "cell_type": "markdown",
      "id": "46999313",
      "metadata": {
        "id": "46999313"
      },
      "source": [
        "Model Evaluation"
      ]
    },
    {
      "cell_type": "code",
      "execution_count": null,
      "id": "04af648e",
      "metadata": {
        "id": "04af648e",
        "outputId": "0d71554a-384b-491b-bbba-37580056e82d"
      },
      "outputs": [
        {
          "data": {
            "text/plain": [
              "0.9771176346168832"
            ]
          },
          "execution_count": 66,
          "metadata": {},
          "output_type": "execute_result"
        }
      ],
      "source": [
        "#check for accuracy\n",
        "multi_evaluator = MulticlassClassificationEvaluator(labelCol = \"Target\", metricName = \"accuracy\")\n",
        "multi_evaluator.evaluate(y_pred)"
      ]
    },
    {
      "cell_type": "code",
      "execution_count": null,
      "id": "aa2ff7de",
      "metadata": {
        "id": "aa2ff7de",
        "outputId": "779c3950-b909-4a2c-d26b-c5d0e8ab78b5"
      },
      "outputs": [
        {
          "name": "stdout",
          "output_type": "stream",
          "text": [
            "Accuracy 0.9771176346168832\n",
            "Precision 0.9630661816475006\n",
            "Recall 0.9466808927850511\n",
            "f1-Score 0.9548032457900707\n"
          ]
        }
      ],
      "source": [
        "# Accuracy, Precision, f1-Score, Recall: Classification Report\n",
        "\n",
        "print(\"Accuracy\",dec_tree_metrics.accuracy)\n",
        "print(\"Precision\",dec_tree_metrics.precision(1.0))\n",
        "print(\"Recall\",dec_tree_metrics.recall(1.0))\n",
        "print(\"f1-Score\",dec_tree_metrics.fMeasure(1.0))"
      ]
    },
    {
      "cell_type": "code",
      "execution_count": null,
      "id": "991c7e2e",
      "metadata": {
        "id": "991c7e2e",
        "outputId": "b9b01629-a1f2-4855-da07-4a30c9f6276e"
      },
      "outputs": [
        {
          "name": "stderr",
          "output_type": "stream",
          "text": [
            "C:\\spark-3.3.0-bin-hadoop3\\python\\pyspark\\sql\\context.py:157: FutureWarning: Deprecated in 3.0.0. Use SparkSession.builder.getOrCreate() instead.\n",
            "  warnings.warn(\n"
          ]
        }
      ],
      "source": [
        "dec_tree_metrics = MulticlassMetrics(y_pred['Target','prediction'].rdd)"
      ]
    },
    {
      "cell_type": "code",
      "execution_count": null,
      "id": "02081fa2",
      "metadata": {
        "id": "02081fa2"
      },
      "outputs": [],
      "source": [
        "import matplotlib.pyplot as plt\n",
        "import numpy as np\n",
        "import itertools\n",
        "\n",
        "def plot_confusion_matrix(cm, classes,\n",
        "                          normalize=False,\n",
        "                          title='Confusion matrix',\n",
        "                          cmap=plt.cm.Blues):\n",
        "    \"\"\"\n",
        "    This function prints and plots the confusion matrix.\n",
        "    Normalization can be applied by setting `normalize=True`.\n",
        "    \"\"\"\n",
        "    if normalize:\n",
        "        cm = cm.astype('float') / cm.sum(axis=1)[:, np.newaxis]\n",
        "        print(\"Normalized confusion matrix\")\n",
        "    else:\n",
        "        print('Confusion matrix, without normalization')\n",
        "\n",
        "    print(cm)\n",
        "\n",
        "    plt.imshow(cm, interpolation='nearest', cmap=cmap)\n",
        "    plt.title(title)\n",
        "    plt.colorbar()\n",
        "    tick_marks = np.arange(len(classes))\n",
        "    plt.xticks(tick_marks, classes, rotation=45)\n",
        "    plt.yticks(tick_marks, classes)\n",
        "\n",
        "    fmt = '.2f' if normalize else 'd'\n",
        "    thresh = cm.max() / 2.\n",
        "    for i, j in itertools.product(range(cm.shape[0]), range(cm.shape[1])):\n",
        "        plt.text(j, i, format(cm[i, j], fmt),\n",
        "                 horizontalalignment=\"center\",\n",
        "                 color=\"white\" if cm[i, j] > thresh else \"black\")\n",
        "\n",
        "    plt.tight_layout()\n",
        "    plt.ylabel('True label')\n",
        "    plt.xlabel('Predicted label')"
      ]
    },
    {
      "cell_type": "code",
      "execution_count": null,
      "id": "1a851592",
      "metadata": {
        "id": "1a851592"
      },
      "outputs": [],
      "source": [
        "class_temp = y_pred.select(\"Target\").groupBy(\"Target\")\\\n",
        "                        .count().sort('count', ascending=False).toPandas()\n",
        "class_temp = class_temp[\"Target\"].values.tolist()"
      ]
    },
    {
      "cell_type": "code",
      "execution_count": null,
      "id": "7d208503",
      "metadata": {
        "id": "7d208503",
        "outputId": "33112b11-8b01-4e9e-8a57-1a848ee1ca34"
      },
      "outputs": [
        {
          "data": {
            "text/plain": [
              "array([[282244,   1979,      0,      0,      0,      0],\n",
              "       [  2518,  65658,      0,      0,      0,      0],\n",
              "       [     0,   1719,   2372,    560,      0,      0],\n",
              "       [     0,      0,    904,    820,      0,      0],\n",
              "       [     0,      0,    234,    153,      0,      0],\n",
              "       [     0,      0,     41,    114,      0,      0]], dtype=int64)"
            ]
          },
          "execution_count": 71,
          "metadata": {},
          "output_type": "execute_result"
        }
      ],
      "source": [
        "from sklearn.metrics import confusion_matrix\n",
        "y_true = y_pred.select(\"Target\")\n",
        "y_true = y_true.toPandas()\n",
        "\n",
        "y_pred = y_pred.select(\"prediction\")\n",
        "y_pred = y_pred.toPandas()\n",
        "\n",
        "cnf_matrix = confusion_matrix(y_true, y_pred,labels=class_temp)\n",
        "cnf_matrix"
      ]
    },
    {
      "cell_type": "code",
      "execution_count": null,
      "id": "142c2126",
      "metadata": {
        "id": "142c2126",
        "outputId": "f1272f6c-8bd8-4b9e-99a5-aeec7df14d68"
      },
      "outputs": [
        {
          "name": "stdout",
          "output_type": "stream",
          "text": [
            "Confusion matrix, without normalization\n",
            "[[282244   1979      0      0      0      0]\n",
            " [  2518  65658      0      0      0      0]\n",
            " [     0   1719   2372    560      0      0]\n",
            " [     0      0    904    820      0      0]\n",
            " [     0      0    234    153      0      0]\n",
            " [     0      0     41    114      0      0]]\n"
          ]
        },
        {
          "data": {
            "image/png": "[encoded data removed]",
            "text/plain": [
              "<Figure size 432x288 with 2 Axes>"
            ]
          },
          "metadata": {
            "needs_background": "light"
          },
          "output_type": "display_data"
        }
      ],
      "source": [
        "# Plot non-normalized confusion matrix\n",
        "plt.figure()\n",
        "plot_confusion_matrix(cnf_matrix, classes=class_temp,\n",
        "                      title='Confusion matrix, DecisionTree')\n",
        "plt.show()"
      ]
    },
    {
      "cell_type": "markdown",
      "id": "ba55ac00",
      "metadata": {
        "id": "ba55ac00"
      },
      "source": [
        "RandomForest Classifier"
      ]
    },
    {
      "cell_type": "code",
      "execution_count": null,
      "id": "f0cab017",
      "metadata": {
        "id": "f0cab017"
      },
      "outputs": [],
      "source": [
        "ran_forest = RandomForestClassifier(featuresCol = 'features', labelCol = 'Target')"
      ]
    },
    {
      "cell_type": "code",
      "execution_count": null,
      "id": "93d0bc00",
      "metadata": {
        "id": "93d0bc00"
      },
      "outputs": [],
      "source": [
        "ran_forest_model = ran_forest.fit(train_df)"
      ]
    },
    {
      "cell_type": "code",
      "execution_count": null,
      "id": "e4c6719a",
      "metadata": {
        "id": "e4c6719a",
        "outputId": "28bf9309-44f0-4612-b236-7bdb29711ebe"
      },
      "outputs": [
        {
          "name": "stdout",
          "output_type": "stream",
          "text": [
            "+-----+---------+----------+---+--------+------------------+---------------+---------+--------+----------+-------+---------+----------+-------+-------------------+-------------------+------+----+-----+----------+--------------------+--------------------+--------------------+----------+\n",
            "|Index|CBSA_Code|      Date|AQI|Category|Defining_Parameter|Number_of_Sites|city_name|state_id|state_name|    lat|      lng|population|density|           timezone|Pollutant_Parameter|Target|year|month|dayofmonth|            features|       rawPrediction|         probability|prediction|\n",
            "+-----+---------+----------+---+--------+------------------+---------------+---------+--------+----------+-------+---------+----------+-------+-------------------+-------------------+------+----+-----+----------+--------------------+--------------------+--------------------+----------+\n",
            "|    0|    10140|2022-01-01| 21|    Good|             PM2.5|              2| Aberdeen|      WA|Washington|46.9757|-123.8094|     16571|    588|America/Los_Angeles|                1.0|   0.0|2022|    1|         1|[2022.0,1.0,1.0,2...|[19.1582388735467...|[0.95791194367733...|       0.0|\n",
            "|    1|    10140|2022-01-02| 12|    Good|             PM2.5|              2| Aberdeen|      WA|Washington|46.9757|-123.8094|     16571|    588|America/Los_Angeles|                1.0|   0.0|2022|    1|         2|[2022.0,1.0,2.0,1...|[19.1582388735467...|[0.95791194367733...|       0.0|\n",
            "|    2|    10140|2022-01-03| 18|    Good|             PM2.5|              2| Aberdeen|      WA|Washington|46.9757|-123.8094|     16571|    588|America/Los_Angeles|                1.0|   0.0|2022|    1|         3|[2022.0,1.0,3.0,1...|[19.1582388735467...|[0.95791194367733...|       0.0|\n",
            "|    3|    10140|2022-01-04| 19|    Good|             PM2.5|              2| Aberdeen|      WA|Washington|46.9757|-123.8094|     16571|    588|America/Los_Angeles|                1.0|   0.0|2022|    1|         4|[2022.0,1.0,4.0,1...|[19.1582388735467...|[0.95791194367733...|       0.0|\n",
            "|    4|    10140|2022-01-05| 17|    Good|             PM2.5|              2| Aberdeen|      WA|Washington|46.9757|-123.8094|     16571|    588|America/Los_Angeles|                1.0|   0.0|2022|    1|         5|[2022.0,1.0,5.0,1...|[19.1582388735467...|[0.95791194367733...|       0.0|\n",
            "+-----+---------+----------+---+--------+------------------+---------------+---------+--------+----------+-------+---------+----------+-------+-------------------+-------------------+------+----+-----+----------+--------------------+--------------------+--------------------+----------+\n",
            "only showing top 5 rows\n",
            "\n"
          ]
        }
      ],
      "source": [
        "y_pred_rf = ran_forest_model.transform(test_df)\n",
        "y_pred_rf.show(5)"
      ]
    },
    {
      "cell_type": "code",
      "execution_count": null,
      "id": "109a9e5f",
      "metadata": {
        "id": "109a9e5f",
        "outputId": "17510190-1285-4f0b-be15-0087c5224505"
      },
      "outputs": [
        {
          "name": "stdout",
          "output_type": "stream",
          "text": [
            "+------+--------------------+--------------------+----------+\n",
            "|Target|       rawPrediction|         probability|prediction|\n",
            "+------+--------------------+--------------------+----------+\n",
            "|   0.0|[19.1582388735467...|[0.95791194367733...|       0.0|\n",
            "|   0.0|[19.1582388735467...|[0.95791194367733...|       0.0|\n",
            "|   0.0|[19.1582388735467...|[0.95791194367733...|       0.0|\n",
            "|   0.0|[19.1582388735467...|[0.95791194367733...|       0.0|\n",
            "|   0.0|[19.1582388735467...|[0.95791194367733...|       0.0|\n",
            "|   0.0|[19.1582388735467...|[0.95791194367733...|       0.0|\n",
            "|   0.0|[19.1582388735467...|[0.95791194367733...|       0.0|\n",
            "|   0.0|[19.1582388735467...|[0.95791194367733...|       0.0|\n",
            "|   0.0|[19.1582388735467...|[0.95791194367733...|       0.0|\n",
            "|   0.0|[19.1582388735467...|[0.95791194367733...|       0.0|\n",
            "|   0.0|[19.1582388735467...|[0.95791194367733...|       0.0|\n",
            "|   0.0|[19.1582388735467...|[0.95791194367733...|       0.0|\n",
            "|   0.0|[19.1582388735467...|[0.95791194367733...|       0.0|\n",
            "|   0.0|[19.1582388735467...|[0.95791194367733...|       0.0|\n",
            "|   0.0|[19.1582388735467...|[0.95791194367733...|       0.0|\n",
            "|   0.0|[19.1582388735467...|[0.95791194367733...|       0.0|\n",
            "|   0.0|[19.8713679420565...|[0.99356839710282...|       0.0|\n",
            "|   0.0|[19.8713679420565...|[0.99356839710282...|       0.0|\n",
            "|   0.0|[19.1582388735467...|[0.95791194367733...|       0.0|\n",
            "|   0.0|[19.1582388735467...|[0.95791194367733...|       0.0|\n",
            "+------+--------------------+--------------------+----------+\n",
            "only showing top 20 rows\n",
            "\n"
          ]
        }
      ],
      "source": [
        "y_pred_rf.select('Target','rawPrediction', 'probability', 'prediction').show()"
      ]
    },
    {
      "cell_type": "markdown",
      "id": "3621393c",
      "metadata": {
        "id": "3621393c"
      },
      "source": [
        "Model Evaluation"
      ]
    },
    {
      "cell_type": "code",
      "execution_count": null,
      "id": "6802f952",
      "metadata": {
        "id": "6802f952"
      },
      "outputs": [],
      "source": [
        "#check for accuracy\n",
        "multi_evaluator_rf = MulticlassClassificationEvaluator(labelCol = \"Target\", metricName = \"accuracy\")"
      ]
    },
    {
      "cell_type": "code",
      "execution_count": null,
      "id": "d3c962c0",
      "metadata": {
        "id": "d3c962c0",
        "outputId": "678dad0b-6560-4732-b8e0-4e8533b4cc05"
      },
      "outputs": [
        {
          "data": {
            "text/plain": [
              "0.9807495352280444"
            ]
          },
          "execution_count": 78,
          "metadata": {},
          "output_type": "execute_result"
        }
      ],
      "source": [
        "multi_evaluator_rf.evaluate(y_pred_rf)"
      ]
    },
    {
      "cell_type": "code",
      "execution_count": null,
      "id": "7afbcf15",
      "metadata": {
        "id": "7afbcf15",
        "outputId": "fb45601b-bc76-489a-e05d-fea3f0be6b58"
      },
      "outputs": [
        {
          "name": "stderr",
          "output_type": "stream",
          "text": [
            "C:\\spark-3.3.0-bin-hadoop3\\python\\pyspark\\sql\\context.py:157: FutureWarning: Deprecated in 3.0.0. Use SparkSession.builder.getOrCreate() instead.\n",
            "  warnings.warn(\n"
          ]
        },
        {
          "name": "stdout",
          "output_type": "stream",
          "text": [
            "Accuracy 0.9807495352280444\n",
            "Precision 1.0\n",
            "Recall 0.9078875527679011\n",
            "f1-Score 0.95172019069024\n"
          ]
        }
      ],
      "source": [
        "# Accuracy, Precision, f1-Score, Recall: Classification Report for Random Forest Classifier\n",
        "\n",
        "ran_forest_metrics = MulticlassMetrics(y_pred_rf['Target','prediction'].rdd)\n",
        "\n",
        "print(\"Accuracy\",ran_forest_metrics.accuracy)\n",
        "print(\"Precision\",ran_forest_metrics.precision(1.0))\n",
        "print(\"Recall\",ran_forest_metrics.recall(1.0))\n",
        "print(\"f1-Score\",ran_forest_metrics.fMeasure(1.0))"
      ]
    },
    {
      "cell_type": "code",
      "execution_count": null,
      "id": "30f47b47",
      "metadata": {
        "id": "30f47b47",
        "outputId": "39ef7082-0567-44c9-e303-fc594bd99bca"
      },
      "outputs": [
        {
          "data": {
            "text/plain": [
              "array([[284223,      0,      0,      0,      0,      0],\n",
              "       [     0,  68176,      0,      0,      0,      0],\n",
              "       [     0,   4651,      0,      0,      0,      0],\n",
              "       [     0,   1724,      0,      0,      0,      0],\n",
              "       [     0,    387,      0,      0,      0,      0],\n",
              "       [     0,    155,      0,      0,      0,      0]], dtype=int64)"
            ]
          },
          "execution_count": 80,
          "metadata": {},
          "output_type": "execute_result"
        }
      ],
      "source": [
        "from sklearn.metrics import confusion_matrix\n",
        "y_true = y_pred_rf.select(\"Target\")\n",
        "y_true = y_true.toPandas()\n",
        "\n",
        "y_pred = y_pred_rf.select(\"prediction\")\n",
        "y_pred = y_pred.toPandas()\n",
        "\n",
        "cnf_matrix = confusion_matrix(y_true, y_pred,labels=class_temp)\n",
        "cnf_matrix"
      ]
    },
    {
      "cell_type": "code",
      "execution_count": null,
      "id": "5dfd0973",
      "metadata": {
        "id": "5dfd0973",
        "outputId": "0581ff72-ce17-4090-fec5-40abdfeb904d"
      },
      "outputs": [
        {
          "name": "stdout",
          "output_type": "stream",
          "text": [
            "Confusion matrix, without normalization\n",
            "[[284223      0      0      0      0      0]\n",
            " [     0  68176      0      0      0      0]\n",
            " [     0   4651      0      0      0      0]\n",
            " [     0   1724      0      0      0      0]\n",
            " [     0    387      0      0      0      0]\n",
            " [     0    155      0      0      0      0]]\n"
          ]
        },
        {
          "data": {
            "image/png": "[encoded data removed]",
            "text/plain": [
              "<Figure size 432x288 with 2 Axes>"
            ]
          },
          "metadata": {
            "needs_background": "light"
          },
          "output_type": "display_data"
        }
      ],
      "source": [
        "# Plot non-normalized confusion matrix\n",
        "plt.figure()\n",
        "plot_confusion_matrix(cnf_matrix, classes=class_temp,\n",
        "                      title='Confusion matrix, Random Forest')\n",
        "plt.show()"
      ]
    },
    {
      "cell_type": "markdown",
      "id": "61f07662",
      "metadata": {
        "id": "61f07662"
      },
      "source": [
        "Logistic Regression"
      ]
    },
    {
      "cell_type": "code",
      "execution_count": null,
      "id": "7f3b2e2b",
      "metadata": {
        "id": "7f3b2e2b"
      },
      "outputs": [],
      "source": [
        "lr = LogisticRegression(featuresCol = 'features', labelCol = 'Target')"
      ]
    },
    {
      "cell_type": "code",
      "execution_count": null,
      "id": "93031af0",
      "metadata": {
        "id": "93031af0"
      },
      "outputs": [],
      "source": [
        "lr_model = lr.fit(train_df)"
      ]
    },
    {
      "cell_type": "code",
      "execution_count": null,
      "id": "cd72431c",
      "metadata": {
        "id": "cd72431c"
      },
      "outputs": [],
      "source": [
        "y_pred = lr_model.transform(test_df)"
      ]
    },
    {
      "cell_type": "code",
      "execution_count": null,
      "id": "fd8748f6",
      "metadata": {
        "id": "fd8748f6",
        "outputId": "da6cfb32-0660-41b0-ac4c-54b63b52f1c0"
      },
      "outputs": [
        {
          "name": "stdout",
          "output_type": "stream",
          "text": [
            "+-----+---------+----------+---+--------+------------------+---------------+---------+--------+----------+-------+---------+----------+-------+-------------------+-------------------+------+----+-----+----------+--------------------+--------------------+--------------------+----------+\n",
            "|Index|CBSA_Code|      Date|AQI|Category|Defining_Parameter|Number_of_Sites|city_name|state_id|state_name|    lat|      lng|population|density|           timezone|Pollutant_Parameter|Target|year|month|dayofmonth|            features|       rawPrediction|         probability|prediction|\n",
            "+-----+---------+----------+---+--------+------------------+---------------+---------+--------+----------+-------+---------+----------+-------+-------------------+-------------------+------+----+-----+----------+--------------------+--------------------+--------------------+----------+\n",
            "|    0|    10140|2022-01-01| 21|    Good|             PM2.5|              2| Aberdeen|      WA|Washington|46.9757|-123.8094|     16571|    588|America/Los_Angeles|                1.0|   0.0|2022|    1|         1|[2022.0,1.0,1.0,2...|[4224.17768144131...|[1.0,0.0,0.0,0.0,...|       0.0|\n",
            "|    1|    10140|2022-01-02| 12|    Good|             PM2.5|              2| Aberdeen|      WA|Washington|46.9757|-123.8094|     16571|    588|America/Los_Angeles|                1.0|   0.0|2022|    1|         2|[2022.0,1.0,2.0,1...|[5307.21033186125...|[1.0,0.0,0.0,0.0,...|       0.0|\n",
            "|    2|    10140|2022-01-03| 18|    Good|             PM2.5|              2| Aberdeen|      WA|Washington|46.9757|-123.8094|     16571|    588|America/Los_Angeles|                1.0|   0.0|2022|    1|         3|[2022.0,1.0,3.0,1...|[4584.94339048049...|[1.0,0.0,0.0,0.0,...|       0.0|\n",
            "|    3|    10140|2022-01-04| 19|    Good|             PM2.5|              2| Aberdeen|      WA|Washington|46.9757|-123.8094|     16571|    588|America/Los_Angeles|                1.0|   0.0|2022|    1|         4|[2022.0,1.0,4.0,1...|[4464.44297969996...|[1.0,0.0,0.0,0.0,...|       0.0|\n",
            "|    4|    10140|2022-01-05| 17|    Good|             PM2.5|              2| Aberdeen|      WA|Washington|46.9757|-123.8094|     16571|    588|America/Los_Angeles|                1.0|   0.0|2022|    1|         5|[2022.0,1.0,5.0,1...|[4705.00248727957...|[1.0,0.0,0.0,0.0,...|       0.0|\n",
            "+-----+---------+----------+---+--------+------------------+---------------+---------+--------+----------+-------+---------+----------+-------+-------------------+-------------------+------+----+-----+----------+--------------------+--------------------+--------------------+----------+\n",
            "only showing top 5 rows\n",
            "\n"
          ]
        }
      ],
      "source": [
        "y_pred.show(5)"
      ]
    },
    {
      "cell_type": "code",
      "execution_count": null,
      "id": "60b7d062",
      "metadata": {
        "id": "60b7d062",
        "outputId": "00258246-304f-4356-aea6-52616130027b"
      },
      "outputs": [
        {
          "name": "stdout",
          "output_type": "stream",
          "text": [
            "+------+--------------------+--------------------+----------+\n",
            "|Target|       rawPrediction|         probability|prediction|\n",
            "+------+--------------------+--------------------+----------+\n",
            "|   0.0|[4224.17768144131...|[1.0,0.0,0.0,0.0,...|       0.0|\n",
            "|   0.0|[5307.21033186125...|[1.0,0.0,0.0,0.0,...|       0.0|\n",
            "|   0.0|[4584.94339048049...|[1.0,0.0,0.0,0.0,...|       0.0|\n",
            "|   0.0|[4464.44297969996...|[1.0,0.0,0.0,0.0,...|       0.0|\n",
            "|   0.0|[4705.00248727957...|[1.0,0.0,0.0,0.0,...|       0.0|\n",
            "|   0.0|[4945.56199485918...|[1.0,0.0,0.0,0.0,...|       0.0|\n",
            "|   0.0|[4343.64835959846...|[1.0,0.0,0.0,0.0,...|       0.0|\n",
            "|   0.0|[5185.97439777831...|[1.0,0.0,0.0,0.0,...|       0.0|\n",
            "|   0.0|[4824.76737475769...|[1.0,0.0,0.0,0.0,...|       0.0|\n",
            "|   0.0|[4583.91365785711...|[1.0,0.0,0.0,0.0,...|       0.0|\n",
            "|   0.0|[4343.05994095654...|[1.0,0.0,0.0,0.0,...|       0.0|\n",
            "|   0.0|[3741.14630569582...|[1.0,0.0,0.0,0.0,...|       0.0|\n",
            "|   0.0|[5185.23887447590...|[1.0,0.0,0.0,0.0,...|       0.0|\n",
            "|   0.0|[4583.32523921518...|[1.0,0.0,0.0,0.0,...|       0.0|\n",
            "|   0.0|[4462.82482843465...|[1.0,0.0,0.0,0.0,...|       0.0|\n",
            "|   0.0|[4583.03102989422...|[1.0,0.0,0.0,0.0,...|       0.0|\n",
            "|   0.0|[5425.93754163330...|[1.0,0.0,0.0,0.0,...|       0.0|\n",
            "|   0.0|[5546.14374309287...|[1.0,0.0,0.0,0.0,...|       0.0|\n",
            "|   0.0|[4823.29632815287...|[1.0,0.0,0.0,0.0,...|       0.0|\n",
            "|   0.0|[5184.20914185253...|[1.0,0.0,0.0,0.0,...|       0.0|\n",
            "+------+--------------------+--------------------+----------+\n",
            "only showing top 20 rows\n",
            "\n"
          ]
        }
      ],
      "source": [
        "y_pred.select('Target','rawPrediction', 'probability', 'prediction').show()"
      ]
    },
    {
      "cell_type": "markdown",
      "id": "3fe7c731",
      "metadata": {
        "id": "3fe7c731"
      },
      "source": [
        "Model Evaluation"
      ]
    },
    {
      "cell_type": "code",
      "execution_count": null,
      "id": "4529f938",
      "metadata": {
        "id": "4529f938"
      },
      "outputs": [],
      "source": [
        "from pyspark.ml.evaluation import MulticlassClassificationEvaluator"
      ]
    },
    {
      "cell_type": "code",
      "execution_count": null,
      "id": "a4c19ff3",
      "metadata": {
        "id": "a4c19ff3"
      },
      "outputs": [],
      "source": [
        "#check for accuracy\n",
        "multi_evaluator = MulticlassClassificationEvaluator(labelCol = \"Target\", metricName = \"accuracy\")"
      ]
    },
    {
      "cell_type": "code",
      "execution_count": null,
      "id": "49fbeee3",
      "metadata": {
        "id": "49fbeee3",
        "outputId": "e65d6605-1401-4983-e962-8588423c4a49"
      },
      "outputs": [
        {
          "data": {
            "text/plain": [
              "0.9997690055549989"
            ]
          },
          "execution_count": 89,
          "metadata": {},
          "output_type": "execute_result"
        }
      ],
      "source": [
        "multi_evaluator.evaluate(y_pred)"
      ]
    },
    {
      "cell_type": "code",
      "execution_count": null,
      "id": "da02b04c",
      "metadata": {
        "id": "da02b04c",
        "outputId": "e801237e-f2f9-4294-e1d4-b5c846f958fe"
      },
      "outputs": [
        {
          "name": "stderr",
          "output_type": "stream",
          "text": [
            "C:\\spark-3.3.0-bin-hadoop3\\python\\pyspark\\sql\\context.py:157: FutureWarning: Deprecated in 3.0.0. Use SparkSession.builder.getOrCreate() instead.\n",
            "  warnings.warn(\n"
          ]
        }
      ],
      "source": [
        "from pyspark.mllib.evaluation import MulticlassMetrics\n",
        "lr_metrics = MulticlassMetrics(y_pred['Target','prediction'].rdd)"
      ]
    },
    {
      "cell_type": "code",
      "execution_count": null,
      "id": "8c90c820",
      "metadata": {
        "id": "8c90c820",
        "outputId": "97bf0860-12fb-48e6-fdfb-1b14f745fdcb"
      },
      "outputs": [
        {
          "name": "stdout",
          "output_type": "stream",
          "text": [
            "Accuracy 0.9997690055549989\n",
            "Precision 1.0\n",
            "Recall 1.0\n",
            "f1-Score 1.0\n"
          ]
        }
      ],
      "source": [
        "# Accuracy, Precision, f1-Score, Recall: Classification Report for Logistic Regression Classifier\n",
        "\n",
        "print(\"Accuracy\",lr_metrics.accuracy)\n",
        "print(\"Precision\",lr_metrics.precision(1.0))\n",
        "print(\"Recall\",lr_metrics.recall(1.0))\n",
        "print(\"f1-Score\",lr_metrics.fMeasure(1.0))"
      ]
    },
    {
      "cell_type": "code",
      "execution_count": null,
      "id": "674ee474",
      "metadata": {
        "id": "674ee474",
        "outputId": "48a298ea-8a79-4b3e-acd1-ca9154bb60c5"
      },
      "outputs": [
        {
          "data": {
            "text/plain": [
              "array([[284223,      0,      0,      0,      0,      0],\n",
              "       [     0,  68176,      0,      0,      0,      0],\n",
              "       [     0,      0,   4651,      0,      0,      0],\n",
              "       [     0,      0,     14,   1680,     30,      0],\n",
              "       [     0,      0,      0,      9,    354,     24],\n",
              "       [     0,      0,      0,      0,      6,    149]], dtype=int64)"
            ]
          },
          "execution_count": 92,
          "metadata": {},
          "output_type": "execute_result"
        }
      ],
      "source": [
        "from sklearn.metrics import confusion_matrix\n",
        "y_true = y_pred.select(\"Target\")\n",
        "y_true = y_true.toPandas()\n",
        "\n",
        "y_pred = y_pred.select(\"prediction\")\n",
        "y_pred = y_pred.toPandas()\n",
        "\n",
        "cnf_matrix = confusion_matrix(y_true, y_pred,labels=class_temp)\n",
        "cnf_matrix"
      ]
    },
    {
      "cell_type": "code",
      "execution_count": null,
      "id": "2ae31d76",
      "metadata": {
        "id": "2ae31d76",
        "outputId": "d5e4e00f-8505-497e-b77a-1f1c634600d7"
      },
      "outputs": [
        {
          "name": "stdout",
          "output_type": "stream",
          "text": [
            "Confusion matrix, without normalization\n",
            "[[284223      0      0      0      0      0]\n",
            " [     0  68176      0      0      0      0]\n",
            " [     0      0   4651      0      0      0]\n",
            " [     0      0     14   1680     30      0]\n",
            " [     0      0      0      9    354     24]\n",
            " [     0      0      0      0      6    149]]\n"
          ]
        },
        {
          "data": {
            "image/png": "[encoded data removed]",
            "text/plain": [
              "<Figure size 432x288 with 2 Axes>"
            ]
          },
          "metadata": {
            "needs_background": "light"
          },
          "output_type": "display_data"
        }
      ],
      "source": [
        "# Plot non-normalized confusion matrix\n",
        "plt.figure()\n",
        "plot_confusion_matrix(cnf_matrix, classes=class_temp,\n",
        "                      title='Confusion matrix, Logistic Regression')\n",
        "plt.show()"
      ]
    },
    {
      "cell_type": "code",
      "execution_count": null,
      "id": "3ac4652f",
      "metadata": {
        "id": "3ac4652f"
      },
      "outputs": [],
      "source": []
    }
  ],
  "metadata": {
    "kernelspec": {
      "display_name": "Python 3 (ipykernel)",
      "language": "python",
      "name": "python3"
    },
    "language_info": {
      "codemirror_mode": {
        "name": "ipython",
        "version": 3
      },
      "file_extension": ".py",
      "mimetype": "text/x-python",
      "name": "python",
      "nbconvert_exporter": "python",
      "pygments_lexer": "ipython3",
      "version": "3.9.12"
    },
    "colab": {
      "provenance": [],
      "include_colab_link": true
    }
  },
  "nbformat": 4,
  "nbformat_minor": 5
}